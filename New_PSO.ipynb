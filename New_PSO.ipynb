{
  "nbformat": 4,
  "nbformat_minor": 0,
  "metadata": {
    "kernelspec": {
      "display_name": "Python 3",
      "language": "python",
      "name": "python3"
    },
    "language_info": {
      "codemirror_mode": {
        "name": "ipython",
        "version": 3
      },
      "file_extension": ".py",
      "mimetype": "text/x-python",
      "name": "python",
      "nbconvert_exporter": "python",
      "pygments_lexer": "ipython3",
      "version": "3.8.5"
    },
    "colab": {
      "name": "New_PSO.ipynb",
      "provenance": []
    }
  },
  "cells": [
    {
      "cell_type": "code",
      "metadata": {
        "id": "wV0D9rYWgJbd"
      },
      "source": [
        "import random\n",
        "import numpy as np\n",
        "import pandas as pd"
      ],
      "execution_count": null,
      "outputs": []
    },
    {
      "cell_type": "code",
      "metadata": {
        "id": "N_48k5ORgJbr"
      },
      "source": [
        "from Farm_Evaluator import getTurbLoc, loadPowerCurve, binWindResourceData, preProcessing, getAEP, checkConstraints"
      ],
      "execution_count": null,
      "outputs": []
    },
    {
      "cell_type": "code",
      "metadata": {
        "id": "gRl97oFVgJb0"
      },
      "source": [
        "power_curve   =  loadPowerCurve('power_curve.csv')\n",
        "turb_rad = 50"
      ],
      "execution_count": null,
      "outputs": []
    },
    {
      "cell_type": "code",
      "metadata": {
        "id": "cBjZy7wngJb-"
      },
      "source": [
        "n_wind_instances, cos_dir, sin_dir, wind_sped_stacked, C_t = preProcessing(power_curve)"
      ],
      "execution_count": null,
      "outputs": []
    },
    {
      "cell_type": "code",
      "metadata": {
        "id": "NvKq7gBVgJcH"
      },
      "source": [
        "# Years on which the data is available\n",
        "year_list = ['2009']\n",
        "\n",
        "wind_data_list = []\n",
        "for year in year_list:\n",
        "    wind_data_list.append(pd.read_csv(\"wind_data_{}.csv\".format(year)))"
      ],
      "execution_count": null,
      "outputs": []
    },
    {
      "cell_type": "code",
      "metadata": {
        "id": "dsEizTHvgJcW"
      },
      "source": [
        "# Problem parameter\n",
        "min_lim = 50\n",
        "max_lim = 3950\n",
        "turb_count = 50\n",
        "penalty = 0.02"
      ],
      "execution_count": null,
      "outputs": []
    },
    {
      "cell_type": "code",
      "metadata": {
        "id": "4wy7rKW0gJcf"
      },
      "source": [
        "def gen_coord():\n",
        "    x = round(random.uniform(min_lim, max_lim),2)\n",
        "    y = round(random.uniform(min_lim, max_lim),2)\n",
        "    return x,y"
      ],
      "execution_count": null,
      "outputs": []
    },
    {
      "cell_type": "code",
      "metadata": {
        "id": "p9C7Ot7rgJcq"
      },
      "source": [
        "def check_violation_old(turb1, turb2):\n",
        "    return np.linalg.norm(turb1 - turb2) > 8*turb_rad"
      ],
      "execution_count": null,
      "outputs": []
    },
    {
      "cell_type": "code",
      "metadata": {
        "id": "xjdvmUxsAopK"
      },
      "source": [
        "from shapely import affinity\n",
        "from shapely.geometry.point import Point\n",
        "\n",
        "def create_ellipse(center, lengths, angle):\n",
        "    circ = Point(center).buffer(1)\n",
        "    ell = affinity.scale(circ, int(lengths[0]), int(lengths[1]))\n",
        "    ellr = affinity.rotate(ell, angle)\n",
        "    return ellr\n",
        "\n",
        "major = 300\n",
        "minor = 200\n",
        "angle = 110\n",
        "\n",
        "def check_violation(turb1, turb2):\n",
        "    '''\n",
        "    Return True if intersection is empty\n",
        "    '''\n",
        "    ellipse1 = create_ellipse(turb1, (major,minor), angle)\n",
        "    ellipse2 = create_ellipse(turb2, (major,minor), angle)\n",
        "    intersect = ellipse1.intersection(ellipse2)\n",
        "    return intersect.is_empty"
      ],
      "execution_count": null,
      "outputs": []
    },
    {
      "cell_type": "code",
      "metadata": {
        "id": "QNsAGplcBPNO"
      },
      "source": [
        "def generate_turb_locations(count):\n",
        "    arr = [gen_coord()]\n",
        "    for i in range(count-1):\n",
        "        while True:\n",
        "            new_cord = gen_coord()\n",
        "\n",
        "            if all([check_violation(np.array(cord), np.array(new_cord)) for cord in arr]):\n",
        "                arr.append(new_cord)\n",
        "                break\n",
        "    return arr"
      ],
      "execution_count": null,
      "outputs": []
    },
    {
      "cell_type": "code",
      "metadata": {
        "id": "Hek43FyhgJc8"
      },
      "source": [
        "def calculate_AEP(turb_coords):\n",
        "    aep = []\n",
        "    for wind_data in wind_data_list:\n",
        "        wind_inst_freq =  binWindResourceData(wind_data)\n",
        "        aep.append(getAEP(turb_rad, turb_coords, power_curve, wind_inst_freq, \n",
        "                  n_wind_instances, cos_dir, sin_dir, wind_sped_stacked, C_t))\n",
        "    return sum(aep)/len(aep)"
      ],
      "execution_count": null,
      "outputs": []
    },
    {
      "cell_type": "code",
      "metadata": {
        "id": "2uLzlqU6gJdW"
      },
      "source": [
        "# Cost functon for the problem\n",
        "def cost_function(loc_flattened):\n",
        "    turb_coords = loc_flattened.reshape(50,2)\n",
        "    violation_count = count_violation(turb_coords)\n",
        "    fitness = calculate_AEP(turb_coords)\n",
        "    fitness -= fitness*penalty*violation_count\n",
        "    return -fitness"
      ],
      "execution_count": null,
      "outputs": []
    },
    {
      "cell_type": "code",
      "metadata": {
        "id": "nNbXDHPSgJdv"
      },
      "source": [
        "def count_violation(turb_coords):\n",
        "    violation_count = 0\n",
        "    for i,turb1 in enumerate(turb_coords):\n",
        "        for turb2 in np.delete(turb_coords, i, axis=0):\n",
        "            if  np.linalg.norm(turb1 - turb2) < 8*turb_rad:\n",
        "                violation_count += 1\n",
        "    return violation_count"
      ],
      "execution_count": null,
      "outputs": []
    },
    {
      "cell_type": "code",
      "metadata": {
        "id": "8-OmDfLwgJd6"
      },
      "source": [
        "class Particle:\n",
        "    def __init__(self,w=0.5,c1=2,c2=4):\n",
        "        self.position_i = np.array(generate_turb_locations(turb_count)).flatten()          # particle position\n",
        "        self.velocity_i = np.random.uniform(low=-1,high=1, size=(50*2))          # particle velocity\n",
        "        self.pos_best_i = None         # best position individual\n",
        "        self.err_best_i =-1          # best error individual\n",
        "        self.err_i = -1               # error individual\n",
        "        self.w = w\n",
        "        self.c1 = c1\n",
        "        self.c2 = c2\n",
        "    # evaluate current fitness\n",
        "    def evaluate(self,costFunc):\n",
        "        self.err_i=costFunc(self.position_i)\n",
        "\n",
        "        # check to see if the current position is an individual best\n",
        "        if self.err_i < self.err_best_i or self.err_best_i==-1:\n",
        "            self.pos_best_i=self.position_i\n",
        "            self.err_best_i=self.err_i\n",
        "\n",
        "    # update new particle velocity\n",
        "    def update_velocity(self,pos_best_g):     \n",
        "\n",
        "        for i in range(0,num_dimensions):\n",
        "            r1=np.random.random()\n",
        "            r2=np.random.random()\n",
        "\n",
        "            vel_cognitive=self.c1*r1*(self.pos_best_i[i]-self.position_i[i])\n",
        "            vel_social=self.c2*r2*(pos_best_g[i]-self.position_i[i])\n",
        "            self.velocity_i[i]=self.w*self.velocity_i[i]+vel_cognitive+vel_social\n",
        "\n",
        "    # update the particle position based off new velocity updates\n",
        "    def update_position(self,bounds):\n",
        "        for i in range(0,num_dimensions):\n",
        "            self.position_i[i]=self.position_i[i]+self.velocity_i[i]\n",
        "\n",
        "            # adjust maximum position if necessary\n",
        "            if self.position_i[i]>bounds[1]:\n",
        "                self.position_i[i]=bounds[1]\n",
        "\n",
        "            # adjust minimum position if neseccary\n",
        "            if self.position_i[i] < bounds[0]:\n",
        "                self.position_i[i]=bounds[0]"
      ],
      "execution_count": null,
      "outputs": []
    },
    {
      "cell_type": "code",
      "metadata": {
        "id": "UIePssOTgJeD"
      },
      "source": [
        "class PSO():\n",
        "    def __init__(self,costFunc,bounds,params):\n",
        " \n",
        "        self.err_best_g = -1                   # best error for group\n",
        "        self.pos_best_g = None                 # best position for group\n",
        "        self.bounds = bounds\n",
        "        self.maxiter = params['maxiter']\n",
        "        self.costFunc = costFunc\n",
        "\n",
        "        # establish the swarm\n",
        "        self.swarm=[]\n",
        "        for i in range(params['num_particles']):\n",
        "            self.swarm.append(Particle(w=params['w'],c1=params['c1'],c2=params['c2']))\n",
        "\n",
        "    def run(self):\n",
        "        # begin optimization loop\n",
        "        self.pos_best_g_iterations = []\n",
        "        i=0\n",
        "        while i < self.maxiter:\n",
        "            #print i,err_best_g\n",
        "            # cycle through particles in swarm and evaluate fitness\n",
        "            for swarm in self.swarm:\n",
        "                swarm.evaluate(self.costFunc)\n",
        "\n",
        "                # determine if current particle is the best (globally)\n",
        "                if swarm.err_i < self.err_best_g or self.err_best_g == -1:\n",
        "                    self.pos_best_g = swarm.position_i\n",
        "                    self.err_best_g = float(swarm.err_i)\n",
        "\n",
        "            # cycle through swarm and update velocities and position\n",
        "            for swarm in self.swarm:\n",
        "                swarm.update_velocity(self.pos_best_g)\n",
        "                swarm.update_position(self.bounds)\n",
        "            i+=1\n",
        "            self.pos_best_g_iterations.append(self.pos_best_g.reshape(50,2))\n",
        "            print(\"Best fit in iteration no {}: {}\".format(i, -self.err_best_g))\n",
        "        \n",
        "        # print final results\n",
        "        print('FINAL:', -self.err_best_g)\n",
        "        "
      ],
      "execution_count": null,
      "outputs": []
    },
    {
      "cell_type": "code",
      "metadata": {
        "id": "xIPHNHgTgJeV"
      },
      "source": [
        "# Change the values here to tune the model\n",
        "PSO_parameters = {'w': 0.5,# constant inertia weight (how much to weigh the previous velocity)\n",
        "                  'c1': 2,# cognative constant\n",
        "                  'c2': 4,# social constant\n",
        "                  'num_particles': 20,\n",
        "                  'maxiter': 25}"
      ],
      "execution_count": null,
      "outputs": []
    },
    {
      "cell_type": "code",
      "metadata": {
        "scrolled": true,
        "id": "jLbO-TgqgJee"
      },
      "source": [
        "global num_dimensions\n",
        "num_dimensions= turb_count*2\n",
        "bounds=[50,3950] \n",
        "model = PSO(cost_function,bounds,params = PSO_parameters)\n",
        "model.run()"
      ],
      "execution_count": null,
      "outputs": []
    },
    {
      "cell_type": "code",
      "metadata": {
        "id": "UjwOTkjRgJep"
      },
      "source": [
        "checkConstraints(model.pos_best_g_iterations[-1],100)"
      ],
      "execution_count": null,
      "outputs": []
    },
    {
      "cell_type": "code",
      "metadata": {
        "id": "ZlWTI04xgJe7"
      },
      "source": [
        "import matplotlib.pyplot as plt\n",
        "%matplotlib inline"
      ],
      "execution_count": null,
      "outputs": []
    },
    {
      "cell_type": "code",
      "metadata": {
        "id": "IvA7n6g1gJfF"
      },
      "source": [
        "data = [ -cost_function(pos) for pos in model.pos_best_g_iterations]"
      ],
      "execution_count": null,
      "outputs": []
    },
    {
      "cell_type": "code",
      "metadata": {
        "scrolled": true,
        "id": "rEUDVAGigJjs",
        "colab": {
          "base_uri": "https://localhost:8080/",
          "height": 283
        },
        "outputId": "0772140f-393f-4e93-dbff-f71b0a4d5d2d"
      },
      "source": [
        "plt.plot(data)"
      ],
      "execution_count": null,
      "outputs": [
        {
          "output_type": "execute_result",
          "data": {
            "text/plain": [
              "[<matplotlib.lines.Line2D at 0x7f508dabf400>]"
            ]
          },
          "metadata": {
            "tags": []
          },
          "execution_count": 21
        },
        {
          "output_type": "display_data",
          "data": {
            "image/png": "[encoded data removed]",
            "text/plain": [
              "<Figure size 432x288 with 1 Axes>"
            ]
          },
          "metadata": {
            "tags": [],
            "needs_background": "light"
          }
        }
      ]
    },
    {
      "cell_type": "code",
      "metadata": {
        "id": "wn96OfAigJj1",
        "colab": {
          "base_uri": "https://localhost:8080/",
          "height": 283
        },
        "outputId": "977db97e-e5f1-45cc-8115-8cc06dfb9cb4"
      },
      "source": [
        "turb_coords = model.pos_best_g_iterations[-1]\n",
        "plt.scatter(turb_coords[:,0],turb_coords[:,1], c='black')"
      ],
      "execution_count": null,
      "outputs": [
        {
          "output_type": "execute_result",
          "data": {
            "text/plain": [
              "<matplotlib.collections.PathCollection at 0x7f508d602b00>"
            ]
          },
          "metadata": {
            "tags": []
          },
          "execution_count": 22
        },
        {
          "output_type": "display_data",
          "data": {
            "image/png": "[encoded data removed]",
            "text/plain": [
              "<Figure size 432x288 with 1 Axes>"
            ]
          },
          "metadata": {
            "tags": [],
            "needs_background": "light"
          }
        }
      ]
    },
    {
      "cell_type": "code",
      "metadata": {
        "id": "fqxHQldbWI2w"
      },
      "source": [
        "import pandas as pd\n",
        "loc=pd.DataFrame(model.pos_best_g_iterations[-1])\n",
        "loc.to_csv('PSO_2.csv')"
      ],
      "execution_count": null,
      "outputs": []
    }
  ]
}