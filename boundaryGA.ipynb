{
  "nbformat": 4,
  "nbformat_minor": 0,
  "metadata": {
    "colab": {
      "name": "boundaryGA.ipynb",
      "provenance": [],
      "collapsed_sections": []
    },
    "kernelspec": {
      "display_name": "Python 3",
      "language": "python",
      "name": "python3"
    },
    "language_info": {
      "codemirror_mode": {
        "name": "ipython",
        "version": 3
      },
      "file_extension": ".py",
      "mimetype": "text/x-python",
      "name": "python",
      "nbconvert_exporter": "python",
      "pygments_lexer": "ipython3",
      "version": "3.8.5"
    }
  },
  "cells": [
    {
      "cell_type": "code",
      "metadata": {
        "id": "irr-pF6ke6w5"
      },
      "source": [
        "import random\n",
        "import numpy as np\n",
        "import pandas as pd\n",
        "from shapely.geometry import Point, Polygon\n",
        "from math import sqrt\n",
        "import matplotlib.pyplot as plt\n",
        "import matplotlib.patches as patches"
      ],
      "execution_count": null,
      "outputs": []
    },
    {
      "cell_type": "code",
      "metadata": {
        "id": "Nqi35_Zje6xB"
      },
      "source": [
        "from Farm_Evaluator_Vec import getTurbLoc, loadPowerCurve, binWindResourceData, preProcessing, getAEP, checkConstraints"
      ],
      "execution_count": null,
      "outputs": []
    },
    {
      "cell_type": "code",
      "metadata": {
        "id": "hbKG8Kjce6xG"
      },
      "source": [
        "power_curve = loadPowerCurve('power_curve.csv')\n",
        "turb_rad = 50"
      ],
      "execution_count": null,
      "outputs": []
    },
    {
      "cell_type": "code",
      "metadata": {
        "id": "AgbcuDMce6xR"
      },
      "source": [
        "n_wind_instances, cos_dir, sin_dir, wind_sped_stacked, C_t = preProcessing(power_curve)"
      ],
      "execution_count": null,
      "outputs": []
    },
    {
      "cell_type": "code",
      "metadata": {
        "id": "wNI8WjfcJtlQ"
      },
      "source": [
        "# Years on which the data is available\n",
        "year_list = ['2007','2008','2009','2013','2014','2015','2017']\n",
        "\n",
        "wind_data_list = []\n",
        "for year in year_list:\n",
        "    wind_data_list.append(pd.read_csv(\"wind_data_{}.csv\".format(year)))"
      ],
      "execution_count": null,
      "outputs": []
    },
    {
      "cell_type": "code",
      "metadata": {
        "id": "duTpEDSSe6xa"
      },
      "source": [
        "def gen_coord():\n",
        "    x = round(random.uniform(min_lim, max_lim),2)\n",
        "    y = round(random.uniform(min_lim, max_lim),2)\n",
        "    return x,y"
      ],
      "execution_count": null,
      "outputs": []
    },
    {
      "cell_type": "code",
      "metadata": {
        "id": "lfxijvD_e6xe"
      },
      "source": [
        "def check_violation(turb1, turb2):\n",
        "    return np.linalg.norm(turb1 - turb2) > 8*turb_rad"
      ],
      "execution_count": null,
      "outputs": []
    },
    {
      "cell_type": "code",
      "metadata": {
        "id": "Y5dc-XaWJtly"
      },
      "source": [
        "def get_rectangle(perc):\n",
        "    x = max_lim-min_lim\n",
        "    width = (x-sqrt(x*x*(1-(perc/100))))/2\n",
        "    return Polygon([(min_lim+width, min_lim+width), (min_lim+width, max_lim-width), \n",
        "                    (max_lim-width, max_lim-width), (max_lim-width, min_lim+width)])"
      ],
      "execution_count": null,
      "outputs": []
    },
    {
      "cell_type": "code",
      "metadata": {
        "id": "Gx0fTm2se6xm"
      },
      "source": [
        "def generate_turb_locations(bound_perc):\n",
        "    rect = get_rectangle(bound_perc)\n",
        "    arr = []\n",
        "    for i in range(turb_count):\n",
        "        while True:\n",
        "            new_cord = gen_coord()\n",
        "            if not rect.contains(Point(new_cord)):\n",
        "                if all([check_violation(np.array(cord), np.array(new_cord)) for cord in arr]):\n",
        "                    arr.append(new_cord)\n",
        "                    break\n",
        "    return arr"
      ],
      "execution_count": null,
      "outputs": []
    },
    {
      "cell_type": "code",
      "metadata": {
        "id": "jOFAC4fUe6xq"
      },
      "source": [
        "def calculate_AEP(turb_coords):\n",
        "    aep = []\n",
        "    for wind_data in wind_data_list:\n",
        "        wind_inst_freq =  binWindResourceData(wind_data)\n",
        "        aep.append(getAEP(turb_rad, turb_coords, power_curve, wind_inst_freq, \n",
        "                  n_wind_instances, cos_dir, sin_dir, wind_sped_stacked, C_t))\n",
        "    return sum(aep)/len(aep)"
      ],
      "execution_count": null,
      "outputs": []
    },
    {
      "cell_type": "code",
      "metadata": {
        "id": "g_-OVvUke6xv"
      },
      "source": [
        "class TurbGroup:\n",
        "    def __init__(self, boundary_area_percentage):\n",
        "        self.turb_coords = np.array(generate_turb_locations(boundary_area_percentage))\n",
        "        self.fitness = -1\n",
        "        self.violation_count = 0\n",
        "    \n",
        "    def count_violation(self):\n",
        "        for i,turb1 in enumerate(self.turb_coords):\n",
        "            for turb2 in np.delete(self.turb_coords, i, axis=0):\n",
        "                if  np.linalg.norm(turb1 - turb2) < 8*turb_rad:\n",
        "                    self.violation_count += 1\n",
        "                    \n",
        "        \n",
        "    def calculate_fitness(self):\n",
        "        self.count_violation()\n",
        "        fitness = calculate_AEP(self.turb_coords)\n",
        "        fitness -= fitness*penalty*self.violation_count\n",
        "        self.fitness = fitness\n"
      ],
      "execution_count": null,
      "outputs": []
    },
    {
      "cell_type": "code",
      "metadata": {
        "id": "BL_AS9yve6x3"
      },
      "source": [
        "def ga():\n",
        "\n",
        "    pop = init_pop(POP_SIZE)\n",
        "    pop = fitness(pop)\n",
        "    \n",
        "    for generation in range(GEN_COUNT):    \n",
        "        \n",
        "        nextgen_pop = []\n",
        "        for i in range(int(POP_SIZE/2)):\n",
        "            parent1 = selection(pop)\n",
        "            parent2 = selection(pop)\n",
        "            offspring = crossover(parent1, parent2)\n",
        "            nextgen_pop.append(mutation(offspring[0]))\n",
        "            nextgen_pop.append(mutation(offspring[1]))\n",
        "        pop = fitness(nextgen_pop)\n",
        "        best = sorted(pop, key=lambda x: x.fitness, reverse=True)\n",
        "        print(\"Best fit in Generation no {}: {}\".format(generation, best[0].fitness))\n",
        "    return best[0]\n"
      ],
      "execution_count": null,
      "outputs": []
    },
    {
      "cell_type": "code",
      "metadata": {
        "id": "muIMmiX2e6x8"
      },
      "source": [
        "def init_pop(population_count):\n",
        "    turb_list = []\n",
        "    for i in range(population_count):\n",
        "        print(\"Generating population no {}\".format(i+1))\n",
        "        turb_list.append(TurbGroup(boundary_area_percentage))\n",
        "    return turb_list"
      ],
      "execution_count": null,
      "outputs": []
    },
    {
      "cell_type": "code",
      "metadata": {
        "id": "sAZa6Gzxe6yA"
      },
      "source": [
        "def fitness(population):\n",
        "    for agent in population:\n",
        "        agent.calculate_fitness()\n",
        "    return population"
      ],
      "execution_count": null,
      "outputs": []
    },
    {
      "cell_type": "code",
      "metadata": {
        "id": "GLQSh4qke6yE"
      },
      "source": [
        "def selection(population):\n",
        "    players = random.sample(population, TOURNAMENT_SIZE)\n",
        "    sorted_players = sorted(players, key=lambda x: x.fitness, reverse=True)\n",
        "\n",
        "    return sorted_players[0]"
      ],
      "execution_count": null,
      "outputs": []
    },
    {
      "cell_type": "code",
      "metadata": {
        "id": "VRabuj7Fe6yJ"
      },
      "source": [
        "def crossover(p1, p2):\n",
        "    if random.random() < XO_PROB:\n",
        "        xo_pt = random.randrange(turb_count)\n",
        "        c1 = np.vstack([p1.turb_coords[:xo_pt], p2.turb_coords[xo_pt:]])\n",
        "        c2 = np.vstack([p2.turb_coords[:xo_pt], p1.turb_coords[xo_pt:]])\n",
        "        p1.turb_coords, p2.turb_coords = c1, c2\n",
        "\n",
        "    return p1, p2"
      ],
      "execution_count": null,
      "outputs": []
    },
    {
      "cell_type": "code",
      "metadata": {
        "id": "WAYZeVo7e6yN"
      },
      "source": [
        "def mutation(agent):\n",
        "    if random.random() < MUT_PROB:\n",
        "        return TurbGroup(100)\n",
        "    else:\n",
        "        return agent"
      ],
      "execution_count": null,
      "outputs": []
    },
    {
      "cell_type": "code",
      "metadata": {
        "id": "Wxe93AyBJtnN"
      },
      "source": [
        "# Problem parameter\n",
        "min_lim = 50\n",
        "max_lim = 3950\n",
        "turb_count = 50\n",
        "penalty = 0.05"
      ],
      "execution_count": null,
      "outputs": []
    },
    {
      "cell_type": "code",
      "metadata": {
        "id": "j3VQsshnJtnW"
      },
      "source": [
        "# set the boundary area here\n",
        "boundary_area_percentage = 65"
      ],
      "execution_count": null,
      "outputs": []
    },
    {
      "cell_type": "code",
      "metadata": {
        "id": "pV0duTXhJtnh",
        "colab": {
          "base_uri": "https://localhost:8080/",
          "height": 282
        },
        "outputId": "4f745261-da6b-4823-e2fd-f36617204a54"
      },
      "source": [
        "# visualize the boundary here\n",
        "x=max_lim-min_lim\n",
        "width = (x-sqrt(x*x*(1-(boundary_area_percentage/100))))/2\n",
        "t = np.array(generate_turb_locations(boundary_area_percentage))\n",
        "fig, ax = plt.subplots(1)\n",
        "ax.scatter(t[:,0], t[:,1])\n",
        "rect = patches.Rectangle((min_lim+width,min_lim+width),x-(2*width),x-(2*width),linewidth=1,edgecolor='r',facecolor='none')\n",
        "ax.add_patch(rect)"
      ],
      "execution_count": null,
      "outputs": [
        {
          "output_type": "execute_result",
          "data": {
            "text/plain": [
              "<matplotlib.patches.Rectangle at 0x7f53d633dd30>"
            ]
          },
          "metadata": {
            "tags": []
          },
          "execution_count": 34
        },
        {
          "output_type": "display_data",
          "data": {
            "image/png": "[encoded data removed]",
            "text/plain": [
              "<Figure size 432x288 with 1 Axes>"
            ]
          },
          "metadata": {
            "tags": [],
            "needs_background": "light"
          }
        }
      ]
    },
    {
      "cell_type": "code",
      "metadata": {
        "id": "-KkPSxmte6xz"
      },
      "source": [
        "# GA parameters\n",
        "POP_SIZE = 5\n",
        "GEN_COUNT = 2\n",
        "TOURNAMENT_SIZE = 3 # should be always less than POP_SIZE\n",
        "MUT_PROB = 0.15\n",
        "XO_PROB = 0.75"
      ],
      "execution_count": null,
      "outputs": []
    },
    {
      "cell_type": "code",
      "metadata": {
        "id": "m3zouZhJe6yQ",
        "colab": {
          "base_uri": "https://localhost:8080/",
          "height": 102
        },
        "outputId": "2eaecb42-c249-431a-9374-802f43f3440a"
      },
      "source": [
        "# best_fit is an instance of the class TurbGroup\n",
        "# you can get the location using the attribute turb_coords\n",
        "# eg: best_fit.turb_coords\n",
        "best_fit = ga()"
      ],
      "execution_count": null,
      "outputs": [
        {
          "output_type": "stream",
          "text": [
            "Generating population no 1\n",
            "Generating population no 2\n",
            "Generating population no 3\n",
            "Generating population no 4\n",
            "Generating population no 5\n"
          ],
          "name": "stdout"
        }
      ]
    },
    {
      "cell_type": "code",
      "metadata": {
        "id": "tRWBrWzGe6yx",
        "outputId": "4445c65b-ec8a-4099-e017-79865438ee68"
      },
      "source": [
        "plt.scatter(best_fit.turb_coords[:,0],best_fit.turb_coords[:,1], c='black')"
      ],
      "execution_count": null,
      "outputs": [
        {
          "output_type": "execute_result",
          "data": {
            "text/plain": [
              "<matplotlib.collections.PathCollection at 0x291ba63f100>"
            ]
          },
          "metadata": {
            "tags": []
          },
          "execution_count": 47
        },
        {
          "output_type": "display_data",
          "data": {
            "image/png": "[encoded data removed]",
            "text/plain": [
              "<Figure size 432x288 with 1 Axes>"
            ]
          },
          "metadata": {
            "tags": [],
            "needs_background": "light"
          }
        }
      ]
    },
    {
      "cell_type": "code",
      "metadata": {
        "id": "_-cpEAxaotE_"
      },
      "source": [
        ""
      ],
      "execution_count": null,
      "outputs": []
    }
  ]
}